{
 "cells": [
  {
   "cell_type": "code",
   "execution_count": 5,
   "metadata": {},
   "outputs": [],
   "source": [
    "# importing libraries\n",
    "import numpy as np\n",
    "import matplotlib.pyplot as plt"
   ]
  },
  {
   "cell_type": "code",
   "execution_count": 9,
   "metadata": {},
   "outputs": [
    {
     "name": "stdout",
     "output_type": "stream",
     "text": [
      "[0 1 2 3 4 5 6 7 8]\n"
     ]
    }
   ],
   "source": [
    "# 1. Create a 1D array of numbers from 0 to 9.\n",
    "arr = np.arange(0,9)\n",
    "print(arr)"
   ]
  },
  {
   "cell_type": "code",
   "execution_count": 13,
   "metadata": {},
   "outputs": [
    {
     "name": "stdout",
     "output_type": "stream",
     "text": [
      "Original Array : \n",
      " [[1. 1. 1.]\n",
      " [1. 1. 1.]\n",
      " [1. 1. 1.]]\n"
     ]
    },
    {
     "data": {
      "text/plain": [
       "array([[ True,  True,  True],\n",
       "       [ True,  True,  True],\n",
       "       [ True,  True,  True]])"
      ]
     },
     "execution_count": 13,
     "metadata": {},
     "output_type": "execute_result"
    }
   ],
   "source": [
    "# 2. Create a 3×3 numpy array of all True’s\n",
    "three_arr =np.ones((3,3))\n",
    "print('Original Array : \\n',three_arr)\n",
    "three_arr >0\n"
   ]
  },
  {
   "cell_type": "code",
   "execution_count": 14,
   "metadata": {},
   "outputs": [
    {
     "name": "stdout",
     "output_type": "stream",
     "text": [
      "Array with odd numbers:  [1 3 5 7 9]\n"
     ]
    }
   ],
   "source": [
    "# 3. Given an array as input, print only odd numbers as output\n",
    "arr1=np.array([1,2,3,4,5,6,7,8,9])\n",
    "print(\"Array with odd numbers: \",arr1[arr1%2!=0])"
   ]
  },
  {
   "cell_type": "code",
   "execution_count": 15,
   "metadata": {},
   "outputs": [
    {
     "name": "stdout",
     "output_type": "stream",
     "text": [
      "Original Array: [1 2 3 4 5 6 7 8 9]\n",
      "Replacing odd numbers in arr1 with -2:\n"
     ]
    },
    {
     "data": {
      "text/plain": [
       "array([-2,  2, -2,  4, -2,  6, -2,  8, -2])"
      ]
     },
     "execution_count": 15,
     "metadata": {},
     "output_type": "execute_result"
    }
   ],
   "source": [
    "# 4. Replace all odd numbers in arr with -2\n",
    "arr1=np.array([1,2,3,4,5,6,7,8,9])\n",
    "print(\"Original Array:\",arr1)\n",
    "print(\"Replacing odd numbers in arr1 with -2:\")\n",
    "arr1[arr1%2!=0]=-2\n",
    "arr1"
   ]
  },
  {
   "cell_type": "code",
   "execution_count": 18,
   "metadata": {},
   "outputs": [
    {
     "name": "stdout",
     "output_type": "stream",
     "text": [
      "[[ 2  4]\n",
      " [ 6  8]\n",
      " [ 5 10]] (3, 2)\n"
     ]
    }
   ],
   "source": [
    "# 5. How to reshape an array?\n",
    "arr2=np.array([[2,4],[6,8],[5,10]])\n",
    "print(arr2,arr2.shape)"
   ]
  },
  {
   "cell_type": "code",
   "execution_count": 20,
   "metadata": {},
   "outputs": [
    {
     "name": "stdout",
     "output_type": "stream",
     "text": [
      "original 1D array\n",
      "\n",
      " Reshaped 2D array \n"
     ]
    },
    {
     "data": {
      "text/plain": [
       "array([[0, 1, 2, 3, 4],\n",
       "       [5, 6, 7, 8, 9]])"
      ]
     },
     "execution_count": 20,
     "metadata": {},
     "output_type": "execute_result"
    }
   ],
   "source": [
    "# 6. Convert a 1D array to a 2D array with 2 rows\n",
    "arr3=np.arange(10)\n",
    "print(\"original 1D array\")\n",
    "arr3\n",
    "\n",
    "print(\"\\n Reshaped 2D array \")\n",
    "arr4=arr3.reshape(2,5)\n",
    "arr4"
   ]
  },
  {
   "cell_type": "code",
   "execution_count": 23,
   "metadata": {},
   "outputs": [
    {
     "name": "stdout",
     "output_type": "stream",
     "text": [
      "original array: [1 2 3 4 5 6 7 8 9]\n",
      "modified array: [1 3 4 5 7 8 9]\n"
     ]
    }
   ],
   "source": [
    "# 7. Given an array  a  = [1,2,3,4,5,6,7,8,9] , create  new array b from a such that b includes all odd numbers and 4 multiples.\n",
    "import numpy as np\n",
    "a=np.arange(1,10)\n",
    "print(\"original array:\",a)\n",
    "b=a[np.where((a%2!=0)|(a%4==0))]\n",
    "print(\"modified array:\",b)"
   ]
  },
  {
   "cell_type": "code",
   "execution_count": 28,
   "metadata": {},
   "outputs": [
    {
     "name": "stdout",
     "output_type": "stream",
     "text": [
      "[ 0.  1.  2.  3.  4.  0.  0.  6.  7.  8.  9. nan]\n"
     ]
    },
    {
     "data": {
      "text/plain": [
       "array([nan])"
      ]
     },
     "execution_count": 28,
     "metadata": {},
     "output_type": "execute_result"
    }
   ],
   "source": [
    "# 8. Given array, check if there are any null values and print them out.\n",
    "a =np.array([0,1,2,3,4,0,0,6,7,8,9])\n",
    "b=np.append(a,np.NaN)\n",
    "print(b)\n",
    "\n",
    "c=b[np.isnan(b)]\n",
    "c\n"
   ]
  },
  {
   "cell_type": "code",
   "execution_count": 29,
   "metadata": {},
   "outputs": [
    {
     "data": {
      "text/plain": [
       "array([0., 1., 2., 3., 4., 0., 0., 6., 7., 8., 9., 0.])"
      ]
     },
     "execution_count": 29,
     "metadata": {},
     "output_type": "execute_result"
    }
   ],
   "source": [
    "# 9. How to replace all missing values with 0 in a numpy array?\n",
    "c=np.isnan((b))\n",
    "d=np.where((c))\n",
    "b[d]=0\n",
    "b"
   ]
  },
  {
   "cell_type": "code",
   "execution_count": 30,
   "metadata": {},
   "outputs": [
    {
     "data": {
      "text/plain": [
       "(array([0, 1, 2, 3, 4, 6, 7, 8, 9]),\n",
       " array([3, 1, 1, 1, 1, 1, 1, 1, 1], dtype=int64))"
      ]
     },
     "execution_count": 30,
     "metadata": {},
     "output_type": "execute_result"
    }
   ],
   "source": [
    "# 10. How to find the count of each unique number in a NumPy array?\n",
    "k=np.array([1,2,3,2,1,5,6,5,4,5,3,7])\n",
    "unique_values,unique_counts=np.unique(a, return_counts=True)\n",
    "unique_values,unique_counts"
   ]
  },
  {
   "cell_type": "code",
   "execution_count": 35,
   "metadata": {},
   "outputs": [
    {
     "data": {
      "text/plain": [
       "array(['Ilayaraja', 'ARRahman', 'Pritam', 'Amittrivedi'], dtype='<U32')"
      ]
     },
     "execution_count": 35,
     "metadata": {},
     "output_type": "execute_result"
    }
   ],
   "source": [
    "# 11. How to convert a numeric to a categorical (text) array?\n",
    "favourite_muscians ={1:'Ilayaraja',2:'ARRahman',3:'Pritam',4:'Amittrivedi'}\n",
    "txt_favourite_muscians=[]\n",
    "for i in favourite_muscians:\n",
    "    txt_favourite_muscians =np.append(txt_favourite_muscians,favourite_muscians[i])\n",
    "txt_favourite_muscians"
   ]
  },
  {
   "cell_type": "code",
   "execution_count": 40,
   "metadata": {},
   "outputs": [
    {
     "name": "stdout",
     "output_type": "stream",
     "text": [
      "original array:\n",
      "\n"
     ]
    }
   ],
   "source": [
    "# 12. Write a program to print all numbers between 99 and 299 which are either divisible by 5 or 7. Exclude the elements which are divisible by both. \n",
    "e=np.arange(99,300)\n",
    "print(\"original array:\\n\")\n"
   ]
  },
  {
   "cell_type": "code",
   "execution_count": 41,
   "metadata": {},
   "outputs": [
    {
     "data": {
      "text/plain": [
       "array([100, 105, 110, 112, 115, 119, 120, 125, 126, 130, 133, 135, 140,\n",
       "       145, 147, 150, 154, 155, 160, 161, 165, 168, 170, 175, 180, 182,\n",
       "       185, 189, 190, 195, 196, 200, 203, 205, 210, 215, 217, 220, 224,\n",
       "       225, 230, 231, 235, 238, 240, 245, 250, 252, 255, 259, 260, 265,\n",
       "       266, 270, 273, 275, 280, 285, 287, 290, 294, 295])"
      ]
     },
     "execution_count": 41,
     "metadata": {},
     "output_type": "execute_result"
    }
   ],
   "source": [
    "e \n",
    "f=e[(e%5==0)|(e%7==0)]  \n",
    "f"
   ]
  },
  {
   "cell_type": "code",
   "execution_count": 42,
   "metadata": {},
   "outputs": [
    {
     "name": "stdout",
     "output_type": "stream",
     "text": [
      " Final array excluding common elements:\n",
      "\n"
     ]
    },
    {
     "data": {
      "text/plain": [
       "array([100, 110, 112, 115, 119, 120, 125, 126, 130, 133, 135, 145, 147,\n",
       "       150, 154, 155, 160, 161, 165, 168, 170, 180, 182, 185, 189, 190,\n",
       "       195, 196, 200, 203, 205, 215, 217, 220, 224, 225, 230, 231, 235,\n",
       "       238, 240, 250, 252, 255, 259, 260, 265, 266, 270, 273, 275, 285,\n",
       "       287, 290, 294, 295])"
      ]
     },
     "execution_count": 42,
     "metadata": {},
     "output_type": "execute_result"
    }
   ],
   "source": [
    "g =f[np.where((f%5!=0)|(f%7!=0))]\n",
    "print(\" Final array excluding common elements:\\n\")\n",
    "g"
   ]
  },
  {
   "cell_type": "code",
   "execution_count": 45,
   "metadata": {},
   "outputs": [
    {
     "name": "stdout",
     "output_type": "stream",
     "text": [
      "Original array \n",
      "\n"
     ]
    },
    {
     "data": {
      "text/plain": [
       "array([0, 1, 2, 3, 4, 5, 6, 7])"
      ]
     },
     "execution_count": 45,
     "metadata": {},
     "output_type": "execute_result"
    }
   ],
   "source": [
    "# 13. Write a program to reverse an array and print (Don’t use inbuilt reverse functions)\n",
    "\n",
    "orginal_arr=np.arange(8)\n",
    "print(\"Original array \\n\")\n",
    "orginal_arr"
   ]
  },
  {
   "cell_type": "code",
   "execution_count": 46,
   "metadata": {},
   "outputs": [
    {
     "name": "stdout",
     "output_type": "stream",
     "text": [
      " Reversed array \n",
      "\n"
     ]
    },
    {
     "data": {
      "text/plain": [
       "array([8, 7, 6, 5, 4, 3, 2, 1, 0])"
      ]
     },
     "execution_count": 46,
     "metadata": {},
     "output_type": "execute_result"
    }
   ],
   "source": [
    "reverse_arr=arr[::-1]\n",
    "print(\" Reverse array \\n\")\n",
    "reverse_arr"
   ]
  },
  {
   "cell_type": "markdown",
   "metadata": {},
   "source": [
    "# The End"
   ]
  }
 ],
 "metadata": {
  "kernelspec": {
   "display_name": "Python 3",
   "language": "python",
   "name": "python3"
  },
  "language_info": {
   "codemirror_mode": {
    "name": "ipython",
    "version": 3
   },
   "file_extension": ".py",
   "mimetype": "text/x-python",
   "name": "python",
   "nbconvert_exporter": "python",
   "pygments_lexer": "ipython3",
   "version": "3.7.6"
  }
 },
 "nbformat": 4,
 "nbformat_minor": 4
}
